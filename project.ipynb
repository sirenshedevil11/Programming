{
  "nbformat": 4,
  "nbformat_minor": 0,
  "metadata": {
    "colab": {
      "name": "project.ipynb",
      "provenance": [],
      "collapsed_sections": [],
      "include_colab_link": true
    },
    "kernelspec": {
      "name": "python3",
      "display_name": "Python 3"
    }
  },
  "cells": [
    {
      "cell_type": "markdown",
      "metadata": {
        "id": "view-in-github",
        "colab_type": "text"
      },
      "source": [
        "<a href=\"https://colab.research.google.com/github/sirenshedevil11/Programming/blob/master/project.ipynb\" target=\"_parent\"><img src=\"https://colab.research.google.com/assets/colab-badge.svg\" alt=\"Open In Colab\"/></a>"
      ]
    },
    {
      "cell_type": "code",
      "metadata": {
        "id": "-siN9x7W4uuf",
        "colab_type": "code",
        "colab": {}
      },
      "source": [
        "print (\"Welcome to the weather program\")\n",
        "import requests\n",
        "import json\n",
        "base_url = \"http://api.openweathermap.org/data/2.5/weather?\"\n",
        "api_key = \"b92423c4dc78091243d16835f5d0d246\" \n",
        "\n",
        "while True:\n",
        "  location = input (\"\\n Please enter a city or zipcode for the location you are wanting to check for the weather\")\n",
        "  if location == \"\":\n",
        "    print (\"You didn't enter a correct response.\")\n",
        "    continue\n",
        "  else: \n",
        "    try:\n",
        "      zip = int(location)\n",
        "      print(\"Zip = \"+ str(zip))\n",
        "      qstring2 = \"appid=\" + api_key + \"&zip\" + location\n",
        "      zip_url = base_url + qstring2\n",
        "      print(zip_url)\n",
        "      response = requests.get(zip_url)\n",
        "      print(\"ZIP:\" , response.json())\n",
        "      break\n",
        "    except:\n",
        "      city = str(location)\n",
        "      print(\"City = \" + city)\n",
        "      qstring1 = \"appid=\" + api_key + \"&q=\" + city\n",
        "      city_url = base_url +qstring1\n",
        "      print(city_url)\n",
        "      response = requests.get(city_url)\n",
        "      print (\"City\", response.json())\n",
        "    \n",
        "    response = input(\"Would you like to look at another location (y/n)?\")\n",
        "    if response == \"n\" :\n",
        "        break\n",
        "\n",
        "\n",
        "\n",
        "      "
      ],
      "execution_count": 0,
      "outputs": []
    }
  ]
}