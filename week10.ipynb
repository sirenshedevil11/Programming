{
  "nbformat": 4,
  "nbformat_minor": 0,
  "metadata": {
    "colab": {
      "name": "week10",
      "provenance": [],
      "include_colab_link": true
    },
    "kernelspec": {
      "name": "python3",
      "display_name": "Python 3"
    }
  },
  "cells": [
    {
      "cell_type": "markdown",
      "metadata": {
        "id": "view-in-github",
        "colab_type": "text"
      },
      "source": [
        "<a href=\"https://colab.research.google.com/github/sirenshedevil11/Programming/blob/master/week10.ipynb\" target=\"_parent\"><img src=\"https://colab.research.google.com/assets/colab-badge.svg\" alt=\"Open In Colab\"/></a>"
      ]
    },
    {
      "cell_type": "code",
      "metadata": {
        "id": "ZE2-Hjt3hx6G",
        "colab_type": "code",
        "colab": {
          "base_uri": "https://localhost:8080/",
          "height": 156
        },
        "outputId": "f114024a-49e0-4bdb-a8c2-4a0a077717a6"
      },
      "source": [
        "import os\n",
        "basedir = \"C:\\\\dev\\\\logger\\\\\"\n",
        "print(\"Welcome to the personal information machine!\")\n",
        "project = input(\"What project number do you want to store your infomation to?\")\n",
        "filename = project + \".txt\"\n",
        "if(os.path.isdir(basedir)):\n",
        "  print(\"Directory Exists\")\n",
        "else:\n",
        "  print(\"Directory does not exist. I will make one.\")\n",
        "  os.mkdir(basedir)\n",
        "name = input('What is your name?')\n",
        "address = input(\"What is your address?\")\n",
        "phone =input(\"What is you phone number?\")\n",
        "logrecord = name + \",\" + address + \",\" + phone\n",
        "completePath = basedir + filename\n",
        "with open(completePath, \"a\") as fileHandle:\n",
        "  fileHandle.write(logrecord + \"\\n\")\n",
        "print(\"Your log is written.You have logged the following for project: \" + project)\n",
        "with open(completePath, \"r\") as readHandle:\n",
        "  for line in readHandle:\n",
        "    print(line.strip())\n"
      ],
      "execution_count": 8,
      "outputs": [
        {
          "output_type": "stream",
          "text": [
            "Welcome to the personal information machine!\n",
            "What project number do you want to store your infomation to?25\n",
            "Directory Exists\n",
            "What is your name?Dani Jo\n",
            "What is your address?162 Marks\n",
            "What is you phone number?4026665353\n",
            "Your log is written.You have logged the following for project: 25\n",
            "Dani Jo,162 Marks,4026665353\n"
          ],
          "name": "stdout"
        }
      ]
    }
  ]
}